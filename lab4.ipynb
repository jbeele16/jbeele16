{
 "cells": [
  {
   "attachments": {},
   "cell_type": "markdown",
   "id": "beb550f5",
   "metadata": {},
   "source": [
    "# Lab 4\n",
    "\n",
    "[![image](https://colab.research.google.com/assets/colab-badge.svg)](https://colab.research.google.com/github/giswqs/geosdemo/blob/master/docs/labs/lab4.ipynb),
    "\n",
    "## Submission instructions\n",
    "\n",
    "1. Download the notebook from https://geosdemo.gishub.org/labs/lab4\n",
    "2. Complete the lab questions\n",
    "3. Restart Kernel and Run All Cells\n",
    "4. Upload the notebook to your GitHub repository\n",
    "5. Make sure the notebook has an `Open In Colab` badge. Click on the badge to make sure your notebook can be opened in Colab.\n",
    "6. Submit the link to the notebook on your GitHub repository to Canvas"
   ]
  },
  {
   "cell_type": "code",
   "execution_count": 195,
   "id": "bfc1ddc5",
   "metadata": {
    "vscode": {
     "languageId": "python"
    }
   },
   "outputs": [
    {
     "name": "stdout",
     "output_type": "stream",
     "text": [
      "Submitted time: 2023-03-08 20:33:16.593951\n"
     ]
    }
   ],
   "source": [
    "from datetime import datetime\n",
    "\n",
    "now = datetime.now()\n",
    "print(f\"Submitted time: {now}\")"
   ]
  },
  {
   "cell_type": "markdown",
   "id": "7e96934a",
   "metadata": {},
   "source": [
    "## Question 1\n",
    "\n",
    "**Personal Message:** Use a variable to represent a person’s name, and print a message to that person. Your message should be simple, such as, “Hello Eric, would you like to learn some Python today?”"
   ]
  },
  {
   "cell_type": "code",
   "execution_count": 196,
   "id": "063a8cb4",
   "metadata": {
    "vscode": {
     "languageId": "python"
    }
   },
   "outputs": [
    {
     "name": "stdout",
     "output_type": "stream",
     "text": [
      "Hello Donde, can you build more parking spots?\n"
     ]
    }
   ],
   "source": [
    "message = \"Hello Donde, can you build more parking spots?\"\n",
    "print (message)"
   ]
  },
  {
   "cell_type": "markdown",
   "id": "83c4c9e9",
   "metadata": {},
   "source": [
    "## Question 2\n",
    "\n",
    "**Name Cases:** Use a variable to represent a person’s name, and then print that person’s name in lowercase, uppercase, and title case."
   ]
  },
  {
   "cell_type": "code",
   "execution_count": 197,
   "id": "35cfbbec",
   "metadata": {
    "vscode": {
     "languageId": "python"
    }
   },
   "outputs": [
    {
     "name": "stdout",
     "output_type": "stream",
     "text": [
      "jareth beeler\n",
      "JARETH BEELER\n",
      "Jareth Beeler\n"
     ]
    }
   ],
   "source": [
    "name = \"jareth beeler\"\n",
    "print(name.lower())\n",
    "print(name.upper())\n",
    "print(name.title())"
   ]
  },
  {
   "cell_type": "markdown",
   "id": "8c8e92e4",
   "metadata": {},
   "source": [
    "## Question 3\n",
    "\n",
    "**Famous Quote:** Find a quote from a famous person you admire. Print the quote and the name of its author. Your output should look something like the following, including the quotation marks:\n",
    "\n",
    "```\n",
    "Albert Einstein once said, “A person who never made a mistake never tried anything new.”\n",
    "```"
   ]
  },
  {
   "cell_type": "code",
   "execution_count": 198,
   "id": "3bed6cb5",
   "metadata": {
    "vscode": {
     "languageId": "python"
    }
   },
   "outputs": [
    {
     "name": "stdout",
     "output_type": "stream",
     "text": [
      "David Bowie once said \"Gentleness clears the soul, love cleans the mind and makes it free.”\n"
     ]
    }
   ],
   "source": [
    "quote = 'David Bowie once said \"Gentleness clears the soul, love cleans the mind and makes it free.”'\n",
    "print(quote)"
   ]
  },
  {
   "cell_type": "markdown",
   "id": "4b46d366",
   "metadata": {},
   "source": [
    "## Question 4\n",
    "\n",
    "**Stripping Names:** Use a variable to represent a person’s name, and include some whitespace characters at the beginning and end of the name. Make sure you use each character combination, \"\\t\" and \"\\n\", at least once.\n",
    "Print the name once, so the whitespace around the name is displayed. Then print the name using each of the three stripping functions, lstrip(), rstrip(), and strip()."
   ]
  },
  {
   "cell_type": "code",
   "execution_count": 199,
   "id": "bb5dbb0f",
   "metadata": {
    "vscode": {
     "languageId": "python"
    }
   },
   "outputs": [
    {
     "name": "stdout",
     "output_type": "stream",
     "text": [
      "   Jareth Beeler   \n",
      "\t   Jareth Beeler   \n",
      "   Jareth Beeler\n",
      "Jareth Beeler   \n",
      "Jareth Beeler\n"
     ]
    }
   ],
   "source": [
    "name = \"   Jareth Beeler   \"\n",
    "print(f\"{name}\\n\\t{name}\")\n",
    "\n",
    "print(name.rstrip())\n",
    "print(name.lstrip())\n",
    "print(name.strip())\n",
    "\n",
    "      \n",
    "\n"
   ]
  },
  {
   "cell_type": "markdown",
   "id": "32cce0d9",
   "metadata": {},
   "source": [
    "## Question 5\n",
    "\n",
    "**Names:** Store the names of a few of your friends in a list called names. Print\n",
    "each person’s name by accessing each element in the list, one at a time."
   ]
  },
  {
   "cell_type": "code",
   "execution_count": 200,
   "id": "13da6459",
   "metadata": {
    "vscode": {
     "languageId": "python"
    }
   },
   "outputs": [
    {
     "name": "stdout",
     "output_type": "stream",
     "text": [
      "Diva Janeway\n",
      "Alex Bremmer\n",
      "Rithany Kheam\n"
     ]
    }
   ],
   "source": [
    "names = ['Diva Janeway', 'Alex Bremmer', 'Rithany Kheam']\n",
    "\n",
    "print(names[0])\n",
    "print(names[1])\n",
    "print(names[2])\n"
   ]
  },
  {
   "cell_type": "markdown",
   "id": "aaaa5c8f",
   "metadata": {},
   "source": [
    "## Question 6\n",
    "\n",
    "**Your Own List:** Think of your favorite mode of transportation, such as a motorcycle or a car, and make a list that stores several examples. Use your list to print a series of statements about these items, such as “I would like to own a Honda motorcycle.”"
   ]
  },
  {
   "cell_type": "code",
   "execution_count": 201,
   "id": "eba0829e",
   "metadata": {
    "vscode": {
     "languageId": "python"
    }
   },
   "outputs": [
    {
     "name": "stdout",
     "output_type": "stream",
     "text": [
      "My dream car is a 91 CRX Si.\n",
      "A funny car I  want is a 98 Geo Tracker LS.\n",
      "The car I am most serious about buying is a 2009 F-150 STX.\n"
     ]
    }
   ],
   "source": [
    "cars = ['91 CRX Si', '98 Geo Tracker LS', '2009 F-150 STX']\n",
    "statement0 = f\"My dream car is a {cars[0]}.\"\n",
    "statement1 = f\"A funny car I  want is a {cars[1]}.\"\n",
    "statement2 = f\"The car I am most serious about buying is a {cars[2]}.\"\n",
    "print(statement0)\n",
    "print(statement1) \n",
    "print(statement2)\n"
   ]
  },
  {
   "cell_type": "markdown",
   "id": "e4b4452f",
   "metadata": {},
   "source": [
    "## Question 7\n",
    "\n",
    "**Pizzas:** Think of at least three kinds of your favorite pizza. Store these pizza names in a list, and then use a for loop to print the name of each pizza.\n",
    "\n",
    "Modify your for loop to print a sentence using the name of the pizza instead of printing just the name of the pizza. For each pizza you should have one line of output containing a simple statement like _I like pepperoni pizza._"
   ]
  },
  {
   "cell_type": "code",
   "execution_count": 202,
   "id": "37cdb68e",
   "metadata": {
    "vscode": {
     "languageId": "python"
    }
   },
   "outputs": [
    {
     "name": "stdout",
     "output_type": "stream",
     "text": [
      "Chicken Pizza is great!\n",
      "Spinach Pizza is great!\n",
      "Cheese Pizza is great!\n",
      "All Pizza is great!\n"
     ]
    }
   ],
   "source": [
    "Pizza_Types = ['Chicken Pizza', 'Spinach Pizza', 'Cheese Pizza', 'All Pizza']\n",
    "for Pizza_Type in Pizza_Types:\n",
    "    print(f\"{Pizza_Type} is great!\")\n"
   ]
  },
  {
   "cell_type": "markdown",
   "id": "b3b70e8e",
   "metadata": {},
   "source": [
    "Add a line at the end of your program, outside the for loop, that states how much you like pizza. The output should consist of three or more lines about the kinds of pizza you like and then an additional sentence, such as _I really love pizza!_"
   ]
  },
  {
   "cell_type": "code",
   "execution_count": 203,
   "id": "11b4528c",
   "metadata": {
    "vscode": {
     "languageId": "python"
    }
   },
   "outputs": [
    {
     "name": "stdout",
     "output_type": "stream",
     "text": [
      "Chicken Pizza is great!\n",
      "Spinach Pizza is great!\n",
      "Cheese Pizza is great!\n",
      "All Pizza is great!\n",
      "Because of this, Pizza is my favorite food!\n"
     ]
    }
   ],
   "source": [
    "Pizza_Types = ['Chicken Pizza', 'Spinach Pizza', 'Cheese Pizza', 'All Pizza']\n",
    "for Pizza_Type in Pizza_Types:\n",
    "    print(f\"{Pizza_Type} is great!\")\n",
    "    \n",
    "\n",
    "print(\"Because of this, Pizza is my favorite food!\")"
   ]
  },
  {
   "cell_type": "markdown",
   "id": "6e42f992",
   "metadata": {},
   "source": [
    "## Question 8\n",
    "\n",
    "**Animals:** Think of at least three different animals that have a common characteristic. Store the names of these animals in a list, and then use a for loop to print out the name of each animal.\n",
    "\n",
    "Modify your program to print a statement about each animal, such as _A dog would make a great pet._"
   ]
  },
  {
   "cell_type": "code",
   "execution_count": 204,
   "id": "7489fb55",
   "metadata": {
    "vscode": {
     "languageId": "python"
    }
   },
   "outputs": [
    {
     "name": "stdout",
     "output_type": "stream",
     "text": [
      "Dogs have fur.\n",
      "Cats have fur.\n",
      "Bunnies have fur.\n"
     ]
    }
   ],
   "source": [
    "animals = ['Dogs', 'Cats','Bunnies']\n",
    "for animal in animals:\n",
    "    print(f\"{animal} have fur.\")"
   ]
  },
  {
   "cell_type": "markdown",
   "id": "b4484392",
   "metadata": {},
   "source": [
    "Add a line at the end of your program stating what these animals have in common. You could print a sentence such as _Any of these animals would make a great pet!_"
   ]
  },
  {
   "cell_type": "code",
   "execution_count": 205,
   "id": "eb9f8e19",
   "metadata": {
    "vscode": {
     "languageId": "python"
    }
   },
   "outputs": [
    {
     "name": "stdout",
     "output_type": "stream",
     "text": [
      "Dogs have fur.\n",
      "Cats have fur.\n",
      "Bunnies have fur.\n",
      "These animals will shed a mess in your house! Get one anyways.\n"
     ]
    }
   ],
   "source": [
    "animals = ['Dogs', 'Cats','Bunnies']\n",
    "for animal in animals:\n",
    "    print(f\"{animal} have fur.\")\n",
    "\n",
    "print(\"These animals will shed a mess in your house! Get one anyways.\")"
   ]
  },
  {
   "cell_type": "markdown",
   "id": "ba99ccb5",
   "metadata": {},
   "source": [
    "## Question 9\n",
    "\n",
    "**Summing a Hundred:** Make a list of the numbers from one to one hundred, and then use `min()` and `max()` to make sure your list actually starts at one and ends at one hundred. Also, use the sum() function to see how quickly Python can add a hundred numbers."
   ]
  },
  {
   "cell_type": "code",
   "execution_count": 206,
   "id": "6c6a27a9",
   "metadata": {
    "vscode": {
     "languageId": "python"
    }
   },
   "outputs": [
    {
     "name": "stdout",
     "output_type": "stream",
     "text": [
      "[1, 2, 3, 4, 5, 6, 7, 8, 9, 10, 11, 12, 13, 14, 15, 16, 17, 18, 19, 20, 21, 22, 23, 24, 25, 26, 27, 28, 29, 30, 31, 32, 33, 34, 35, 36, 37, 38, 39, 40, 41, 42, 43, 44, 45, 46, 47, 48, 49, 50, 51, 52, 53, 54, 55, 56, 57, 58, 59, 60, 61, 62, 63, 64, 65, 66, 67, 68, 69, 70, 71, 72, 73, 74, 75, 76, 77, 78, 79, 80, 81, 82, 83, 84, 85, 86, 87, 88, 89, 90, 91, 92, 93, 94, 95, 96, 97, 98, 99, 100]\n"
     ]
    }
   ],
   "source": [
    "numbers = list(range(1,101))\n",
    "print(numbers)"
   ]
  },
  {
   "cell_type": "code",
   "execution_count": 207,
   "id": "f9147821",
   "metadata": {
    "vscode": {
     "languageId": "python"
    }
   },
   "outputs": [
    {
     "data": {
      "text/plain": [
       "1"
      ]
     },
     "execution_count": 207,
     "metadata": {},
     "output_type": "execute_result"
    }
   ],
   "source": [
    "min(numbers)"
   ]
  },
  {
   "cell_type": "code",
   "execution_count": 208,
   "id": "9f045c43",
   "metadata": {
    "vscode": {
     "languageId": "python"
    }
   },
   "outputs": [
    {
     "data": {
      "text/plain": [
       "100"
      ]
     },
     "execution_count": 208,
     "metadata": {},
     "output_type": "execute_result"
    }
   ],
   "source": [
    "max(numbers)"
   ]
  },
  {
   "cell_type": "code",
   "execution_count": 209,
   "id": "df1aaa1c",
   "metadata": {
    "vscode": {
     "languageId": "python"
    }
   },
   "outputs": [
    {
     "data": {
      "text/plain": [
       "5050"
      ]
     },
     "execution_count": 209,
     "metadata": {},
     "output_type": "execute_result"
    }
   ],
   "source": [
    "sum(numbers)"
   ]
  },
  {
   "cell_type": "markdown",
   "id": "d165cd3c",
   "metadata": {},
   "source": [
    "## Question 10\n",
    "\n",
    "**Odd Numbers:** Use the third argument of the `range()` function to make a list of the odd numbers from 1 to 20. Use a `for` loop to print each number."
   ]
  },
  {
   "cell_type": "code",
   "execution_count": 210,
   "id": "d276920a",
   "metadata": {
    "vscode": {
     "languageId": "python"
    }
   },
   "outputs": [
    {
     "name": "stdout",
     "output_type": "stream",
     "text": [
      "1\n",
      "3\n",
      "5\n",
      "7\n",
      "9\n",
      "11\n",
      "13\n",
      "15\n",
      "17\n",
      "19\n"
     ]
    }
   ],
   "source": [
    "odd_numbers = range(1, 21, 2)\n",
    "for odd_number in odd_numbers:\n",
    "    print(odd_number)"
   ]
  },
  {
   "cell_type": "markdown",
   "id": "9e49d9eb",
   "metadata": {},
   "source": [
    "## Question 11\n",
    "\n",
    "**Threes:** Make a list of the multiples of 3 from 3 to 30. Use a `for` loop to print the numbers in your list."
   ]
  },
  {
   "cell_type": "code",
   "execution_count": 211,
   "id": "4ff24fc6",
   "metadata": {
    "vscode": {
     "languageId": "python"
    }
   },
   "outputs": [
    {
     "name": "stdout",
     "output_type": "stream",
     "text": [
      "3\n",
      "6\n",
      "9\n",
      "12\n",
      "15\n",
      "18\n",
      "21\n",
      "24\n",
      "27\n",
      "30\n"
     ]
    }
   ],
   "source": [
    "multiples_numbers = range(3, 33, 3)\n",
    "for multiple_number in multiples_numbers:\n",
    "    print(multiple_number)"
   ]
  },
  {
   "cell_type": "markdown",
   "id": "dbcce457",
   "metadata": {},
   "source": [
    "## Question 12\n",
    "\n",
    "**Cube Comprehension:** Use a list comprehension to generate a list of the first 10 cubes."
   ]
  },
  {
   "cell_type": "code",
   "execution_count": 212,
   "id": "df0901f8",
   "metadata": {
    "vscode": {
     "languageId": "python"
    }
   },
   "outputs": [
    {
     "name": "stdout",
     "output_type": "stream",
     "text": [
      "[1, 8, 27, 64, 125, 216, 343, 512, 729, 1000]\n"
     ]
    }
   ],
   "source": [
    "cubes = [value**3 for value in range(1, 11)]\n",
    "print(cubes)"
   ]
  },
  {
   "cell_type": "markdown",
   "id": "c6946e7b",
   "metadata": {},
   "source": [
    "## Question 13\n",
    "\n",
    "**Slices:** Using one of the programs you wrote in this lab, add several lines to the end of the program that do the following:\n",
    "\n",
    "Print the message _The first three items in the list are:_. Then use a slice to print the first three items from that program’s list."
   ]
  },
  {
   "cell_type": "code",
   "execution_count": 213,
   "id": "0e03e488",
   "metadata": {
    "vscode": {
     "languageId": "python"
    }
   },
   "outputs": [
    {
     "name": "stdout",
     "output_type": "stream",
     "text": [
      "The first three items in the list are: [1, 8, 27]\n"
     ]
    }
   ],
   "source": [
    "cubes = [value**3 for value in range(1, 11)]\n",
    "print(f\"The first three items in the list are: {cubes[0:3]}\")\n"
   ]
  },
  {
   "cell_type": "markdown",
   "id": "6f88722c",
   "metadata": {},
   "source": [
    "Print the message _Three items from the middle of the list are:_. Use a slice to print three items from the middle of the list."
   ]
  },
  {
   "cell_type": "code",
   "execution_count": 214,
   "id": "6859a061",
   "metadata": {
    "vscode": {
     "languageId": "python"
    }
   },
   "outputs": [
    {
     "name": "stdout",
     "output_type": "stream",
     "text": [
      "Three items from the middle of the list are: [64, 125, 216]\n"
     ]
    }
   ],
   "source": [
    "cubes = [value**3 for value in range(1, 11)]\n",
    "print(f\"Three items from the middle of the list are: {cubes[3:6]}\")\n"
   ]
  },
  {
   "cell_type": "markdown",
   "id": "0abc8cec",
   "metadata": {},
   "source": [
    "Print the message _The last three items in the list are:_. Use a slice to print the last three items in the list."
   ]
  },
  {
   "cell_type": "code",
   "execution_count": 215,
   "id": "64988cac",
   "metadata": {
    "vscode": {
     "languageId": "python"
    }
   },
   "outputs": [
    {
     "name": "stdout",
     "output_type": "stream",
     "text": [
      "The last three items in the list are: [343, 512, 729]\n"
     ]
    }
   ],
   "source": [
    "cubes = [value**3 for value in range(1, 11)]\n",
    "print(f\"The last three items in the list are: {cubes[6:9]}\")\n"
   ]
  },
  {
   "cell_type": "markdown",
   "id": "36876b9d",
   "metadata": {},
   "source": [
    "## Question 14\n",
    "\n",
    "**Buffet:** A buffet-style restaurant offers only five basic foods. Think of five simple foods, and store them in a tuple.\n",
    "\n",
    "Use a for loop to print each food the restaurant offers."
   ]
  },
  {
   "cell_type": "code",
   "execution_count": 216,
   "id": "6f186d8a",
   "metadata": {
    "vscode": {
     "languageId": "python"
    }
   },
   "outputs": [
    {
     "name": "stdout",
     "output_type": "stream",
     "text": [
      "biscuits\n",
      "eggs\n",
      "bacon\n",
      "gravy\n",
      "grits\n"
     ]
    }
   ],
   "source": [
    "buffet_foods = (\"biscuits\", \"eggs\", \"bacon\", \"gravy\", \"grits\") \n",
    "for buffet_food in buffet_foods:\n",
    "    print(buffet_food)"
   ]
  },
  {
   "cell_type": "markdown",
   "id": "0a6ba7f3",
   "metadata": {},
   "source": [
    "The restaurant changes its menu, replacing two of the items with different foods. Add a line that rewrites the tuple, and then use a for loop to print each of the items on the revised menu."
   ]
  },
  {
   "cell_type": "code",
   "execution_count": 217,
   "id": "79b11cbc",
   "metadata": {
    "vscode": {
     "languageId": "python"
    }
   },
   "outputs": [
    {
     "name": "stdout",
     "output_type": "stream",
     "text": [
      "biscuits\n",
      "home fries\n",
      "bacon\n",
      "gravy\n",
      "pancakes\n"
     ]
    }
   ],
   "source": [
    "buffet_foods = (\"biscuits\", \"eggs\", \"bacon\", \"gravy\", \"grits\")\n",
    "buffet_foods = (\"biscuits\", \"home fries\", \"bacon\", \"gravy\", \"pancakes\")\n",
    "for buffet_food in buffet_foods:\n",
    "    print(buffet_food)"
   ]
  },
  {
   "cell_type": "markdown",
   "id": "337ac27d",
   "metadata": {},
   "source": [
    "## Question 15\n",
    "\n",
    "**Alien Colors:** Imagine an alien was just shot down in a game. Create a variable called `alien_color` and assign it a value of `green, yellow,` or `red`.\n",
    "\n",
    "-   Write an if statement to test whether the alien’s color is green. If it is, print a message that the player just earned 5 points.\n",
    "-   Write one version of this program that passes the if test and another that fails. (The version that fails will have no output.)"
   ]
  },
  {
   "cell_type": "code",
   "execution_count": 218,
   "id": "cc3198fa",
   "metadata": {
    "vscode": {
     "languageId": "python"
    }
   },
   "outputs": [
    {
     "name": "stdout",
     "output_type": "stream",
     "text": [
      "The Player Just Earned 5 Points!\n",
      "\n",
      "\n"
     ]
    }
   ],
   "source": [
    "alien_colors = (\"green\", \"yellow\",\"red\")\n",
    "\n",
    "for alien_color in alien_colors:\n",
    "    if alien_color == \"green\":\n",
    "        print(\"The Player Just Earned 5 Points!\")\n",
    "    else:\n",
    "        print()"
   ]
  },
  {
   "cell_type": "markdown",
   "id": "57465bab",
   "metadata": {},
   "source": [
    "## Question 16\n",
    "\n",
    "**Stages of Life:** Write an `if-elif-else` chain that determines a person’s stage of life. Set a value for the variable `age`, and then:\n",
    "\n",
    "-   If the person is less than 2 years old, print a message that the person is a baby.\n",
    "-   If the person is at least 2 years old but less than 4, print a message that the person is a toddler.\n",
    "-   If the person is at least 4 years old but less than 13, print a message that the person is a kid.\n",
    "-   If the person is at least 13 years old but less than 20, print a message that the person is a teenager.\n",
    "-   If the person is at least 20 years old but less than 65, print a message that the person is an adult."
   ]
  },
  {
   "cell_type": "code",
   "execution_count": 219,
   "id": "b09c364a",
   "metadata": {
    "vscode": {
     "languageId": "python"
    }
   },
   "outputs": [
    {
     "name": "stdout",
     "output_type": "stream",
     "text": [
      "You are an adult!\n"
     ]
    }
   ],
   "source": [
    "age = 24\n",
    "\n",
    "if age < 2:\n",
    "    print(\"You are a baby!\")\n",
    "elif age < 4:\n",
    "    print(\"You are a toddler!\")\n",
    "elif age < 13:\n",
    "   print(\"You are a kid!\")\n",
    "elif age < 20:\n",
    "   print(\"You are a teenager!\")\n",
    "elif age < 65:\n",
    "   print(\"You are an adult!\")\n",
    "elif age >= 65:\n",
    "    print(\"You are a senior!\")"
   ]
  },
  {
   "cell_type": "markdown",
   "id": "96b3da06",
   "metadata": {},
   "source": [
    "## Question 17\n",
    "\n",
    "**Favorite Fruit:** Make a list of your favorite fruits, and then write a series of independent `if` statements that check for certain fruits in your list.\n",
    "\n",
    "-   Make a list of your three favorite fruits and call it favorite_fruits.\n",
    "-   Write five if statements. Each should check whether a certain kind of fruit is in your list. If the fruit is in your list, the if block should print a statement, such as You really like bananas!"
   ]
  },
  {
   "cell_type": "code",
   "execution_count": 220,
   "id": "fc58635c",
   "metadata": {
    "vscode": {
     "languageId": "python"
    }
   },
   "outputs": [
    {
     "name": "stdout",
     "output_type": "stream",
     "text": [
      "You really like yellow bananas!\n",
      "You really like orange mangos!\n",
      "You really like indigo blueberries!\n"
     ]
    }
   ],
   "source": [
    "favorite_fruits = (\"banana\", \"mango\", \"blueberries\")\n",
    "if \"banana\" in favorite_fruits:\n",
    "    print(\"You really like yellow bananas!\")\n",
    "if \"mango\" in favorite_fruits:\n",
    "    print(\"You really like orange mangos!\")\n",
    "if \"blueberries\" in favorite_fruits:\n",
    "    print(\"You really like indigo blueberries!\")\n",
    "if \"strawberries\" in favorite_fruits:\n",
    "    print(\"You really like red strawberries!\")\n",
    "if \"granny smith apples\" in favorite_fruits:\n",
    "    print(\"You really like green apples!\")"
   ]
  },
  {
   "cell_type": "markdown",
   "id": "71e4c6f1",
   "metadata": {},
   "source": [
    "## Question 18\n",
    "\n",
    "**Hello Admin:** Make a list of five or more usernames, including the name `admin`. Imagine you are writing code that will print a greeting to each user after they log in to a website. Loop through the list, and print a greeting to each user:\n",
    "\n",
    "-   If the username is 'admin', print a special greeting, such as _Hello admin, would you like to see a status report?_\n",
    "-   Otherwise, print a generic greeting, such as _Hello Jaden, thank you for logging in again_."
   ]
  },
  {
   "cell_type": "code",
   "execution_count": 221,
   "id": "651e8bf2",
   "metadata": {
    "vscode": {
     "languageId": "python"
    }
   },
   "outputs": [
    {
     "name": "stdout",
     "output_type": "stream",
     "text": [
      "Hello admin, would you like to see a status report?\n",
      "Hello birdsbirdsbirds,thank you for logging in again.\n",
      "Hello trees4life,thank you for logging in again.\n",
      "Hello geographybro,thank you for logging in again.\n",
      "Hello landslidesally,thank you for logging in again.\n"
     ]
    }
   ],
   "source": [
    "usernames = (\"admin\", \"birdsbirdsbirds\",\"trees4life\",\"geographybro\",\"landslidesally\")\n",
    "for username in usernames:\n",
    "    if username == \"admin\":\n",
    "        print(\"Hello admin, would you like to see a status report?\")\n",
    "    else:\n",
    "        print(f\"Hello {username},thank you for logging in again.\")"
   ]
  },
  {
   "cell_type": "markdown",
   "id": "fd53a583",
   "metadata": {},
   "source": [
    "## Question 19\n",
    "\n",
    "**Checking Usernames:** Do the following to create a program that simulates how websites ensure that everyone has a unique username.\n",
    "\n",
    "-   Make a list of five or more usernames called `current_users`.\n",
    "-   Make another list of five usernames called `new_users`. Make sure one or two of the new usernames are also in the `current_users` list.\n",
    "-   Loop through the `new_users` list to see if each new username has already been used. If it has, print a message that the person will need to enter a new username. If a username has not been used, print a message saying that the username is available.\n",
    "-   Make sure your comparison is case insensitive. If 'John' has been used, 'JOHN' should not be accepted. (To do this, you’ll need to make a copy of `current_users` containing the lowercase versions of all existing users.)"
   ]
  },
  {
   "cell_type": "code",
   "execution_count": 222,
   "id": "9f1a4a8d",
   "metadata": {
    "vscode": {
     "languageId": "python"
    }
   },
   "outputs": [
    {
     "name": "stdout",
     "output_type": "stream",
     "text": [
      "Congratulations, bringmethesoilhorizon is available!\n",
      "Sorry, birdsbirdsbirds is already taken. Please choose a new name.\n",
      "Sorry, trees4life is already taken. Please choose a new name.\n",
      "Congratulations, nintendotractors is available!\n",
      "Congratulations, fishfertilizer is available!\n"
     ]
    }
   ],
   "source": [
    "current_users = (\"admin\", \"Birdsbirdsbirds\",\"Trees4life\",\"geographybro\",\"landslidesally\")\n",
    "new_users = (\"bringmethesoilhorizon\", \"birdsbirdsbirds\",\"trees4life\",\"nintendotractors\",\"fishfertilizer\")\n",
    "current_users_lower = [current_users.lower() for current_users in current_users]\n",
    "for new_user in new_users:\n",
    "    if new_user in current_users_lower: \n",
    "        print(f\"Sorry, {new_user} is already taken. Please choose a new name.\")\n",
    "    else:\n",
    "        print(f\"Congratulations, {new_user} is available!\")"
   ]
  },
  {
   "cell_type": "markdown",
   "id": "20f8412b",
   "metadata": {},
   "source": [
    "## Question 20\n",
    "\n",
    "**Ordinal Numbers:** Ordinal numbers indicate their position in a list, such as _1st_ or _2nd_. Most ordinal numbers end in _th_, except 1, 2, and 3.\n",
    "\n",
    "-   Store the numbers 1 through 9 in a list.\n",
    "-   Loop through the list.\n",
    "-   Use an `if-elif-else` chain inside the loop to print the proper ordinal ending for each number. Your output should read \"1st 2nd 3rd 4th 5th 6th 7th 8th 9th\", and each result should be on a separate line."
   ]
  },
  {
   "cell_type": "code",
   "execution_count": 223,
   "id": "6231e1e4",
   "metadata": {
    "vscode": {
     "languageId": "python"
    }
   },
   "outputs": [
    {
     "name": "stdout",
     "output_type": "stream",
     "text": [
      "1st\n",
      "2nd\n",
      "3rd\n",
      "4th\n",
      "5th\n",
      "6th\n",
      "7th\n",
      "8th\n",
      "9th\n"
     ]
    }
   ],
   "source": [
    "numbers = (1,2,3,4,5,6,7,8,9)\n",
    "for number in numbers:\n",
    "    if  number == 1:\n",
    "        print(f\"{number}st\")\n",
    "    elif number == 2:\n",
    "        print(f\"{number}nd\")\n",
    "    elif number == 3:\n",
    "        print(f\"{number}rd\")\n",
    "    else:\n",
    "        print(f\"{number}th\")\n",
    "\n"
   ]
  }
 ],
 "metadata": {
  "kernelspec": {
   "display_name": "Python 3",
   "language": "python",
   "name": "python3"
  }
 },
 "nbformat": 4,
 "nbformat_minor": 5
}
